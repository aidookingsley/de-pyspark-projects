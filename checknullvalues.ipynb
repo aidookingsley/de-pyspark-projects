{
 "cells": [
  {
   "cell_type": "markdown",
   "metadata": {},
   "source": [
    "PySpark Null Value Analysis\n",
    "\n",
    "Problem Statement:\n",
    "This script demonstrates handling of null/missing values in PySpark by:\n",
    "1. Creating a DataFrame with intentional null values across columns\n",
    "2. Visualizing the complete dataset including null entries\n",
    "\n",
    "Data Characteristics:\n",
    "- Contains nulls in string (name), numeric (value), and integer (id) columns\n",
    "- Represents common data quality issues in real-world datasets\n",
    "\n",
    "Use Cases:\n",
    "- Data quality assessment\n",
    "- Pre-processing for ML pipelines\n",
    "- Data validation checks\n",
    "- Demonstrating null-handling techniques\n",
    "\n",
    "Columns:\n",
    "- name (string): May contain customer names\n",
    "- value (int): Numeric measurements with missing values\n",
    "- id (int): Identifier field with potential gaps\n",
    "\n"
   ]
  },
  {
   "cell_type": "code",
   "execution_count": null,
   "metadata": {},
   "outputs": [],
   "source": [
    "from pyspark.sql import SparkSession\n",
    "\n",
    "# Initialize Spark session\n",
    "spark = SparkSession.builder.appName(\"Null Check Example\").getOrCreate()\n",
    "\n",
    "# Sample data\n",
    "data = [\n",
    "    (\"Alice\", 50, 1),\n",
    "    (None, 60, 2),\n",
    "    (\"Bob\", None, 3),\n",
    "    (\"Charlie\", 70, None),\n",
    "    (None, None, None)\n",
    "]\n",
    "\n",
    "# Creating DataFrame\n",
    "columns = [\"name\", \"value\", \"id\"]\n",
    "df = spark.createDataFrame(data, columns)\n",
    "df.show()\n"
   ]
  },
  {
   "cell_type": "code",
   "execution_count": null,
   "metadata": {},
   "outputs": [],
   "source": [
    "from pyspark.sql.functions import col, sum\n",
    "# Check nulls in each column\n",
    "null_counts = df.select([sum(col(c).isNull().cast('int')).alias(c) for c in df.columns])\n",
    "\n",
    "null_counts.show()"
   ]
  }
 ],
 "metadata": {
  "kernelspec": {
   "display_name": "sptfy-env",
   "language": "python",
   "name": "python3"
  },
  "language_info": {
   "codemirror_mode": {
    "name": "ipython",
    "version": 3
   },
   "file_extension": ".py",
   "mimetype": "text/x-python",
   "name": "python",
   "nbconvert_exporter": "python",
   "pygments_lexer": "ipython3",
   "version": "3.11.9"
  }
 },
 "nbformat": 4,
 "nbformat_minor": 2
}
